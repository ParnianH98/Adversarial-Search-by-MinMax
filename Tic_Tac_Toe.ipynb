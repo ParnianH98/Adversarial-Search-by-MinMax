{
  "nbformat": 4,
  "nbformat_minor": 0,
  "metadata": {
    "colab": {
      "name": "Tic Tac Toe.ipynb",
      "provenance": [],
      "collapsed_sections": [],
      "authorship_tag": "ABX9TyPHhMah5oaCwF3EBTB28Bh2",
      "include_colab_link": true
    },
    "kernelspec": {
      "name": "python3",
      "display_name": "Python 3"
    },
    "language_info": {
      "name": "python"
    }
  },
  "cells": [
    {
      "cell_type": "markdown",
      "metadata": {
        "id": "view-in-github",
        "colab_type": "text"
      },
      "source": [
        "<a href=\"https://colab.research.google.com/github/ParnianH98/Adversarial-Search-by-MinMax/blob/main/Tic_Tac_Toe.ipynb\" target=\"_parent\"><img src=\"https://colab.research.google.com/assets/colab-badge.svg\" alt=\"Open In Colab\"/></a>"
      ]
    },
    {
      "cell_type": "code",
      "metadata": {
        "id": "wpNJgBSI_YYt"
      },
      "source": [
        "import numpy as np\n",
        "from math import inf as infinity\n",
        "import random"
      ],
      "execution_count": null,
      "outputs": []
    },
    {
      "cell_type": "markdown",
      "metadata": {
        "id": "WfzZaCiM5mqS"
      },
      "source": [
        "global variables"
      ]
    },
    {
      "cell_type": "code",
      "metadata": {
        "id": "cunZWaohAPEK"
      },
      "source": [
        "hum, comp = 1 , -1\n",
        "n = 3\n",
        "global board\n",
        "board = np.zeros((n,n))"
      ],
      "execution_count": null,
      "outputs": []
    },
    {
      "cell_type": "markdown",
      "metadata": {
        "id": "EQ2MkaqA5rZW"
      },
      "source": [
        "construct emptyCell of a state"
      ]
    },
    {
      "cell_type": "code",
      "metadata": {
        "id": "_JSXMmZYKiuH"
      },
      "source": [
        "def emptyCellCons(state):\n",
        "    emptyCell = []\n",
        "    a = np.where(state == 0)\n",
        "    x = a[0]\n",
        "    y = a[1]\n",
        "    for i in range(len(x)):\n",
        "        emptyCell.append([x[i],y[i]])\n",
        "\n",
        "    return emptyCell"
      ],
      "execution_count": null,
      "outputs": []
    },
    {
      "cell_type": "markdown",
      "metadata": {
        "id": "xAvzaMwT5wGJ"
      },
      "source": [
        "is the entered cell valid to be placed?"
      ]
    },
    {
      "cell_type": "code",
      "metadata": {
        "id": "hIq9mw8ULOYK"
      },
      "source": [
        "def validMove(x,y,emptyCell):\n",
        "  if [x,y] in emptyCell:\n",
        "    return True\n",
        "  return False"
      ],
      "execution_count": null,
      "outputs": []
    },
    {
      "cell_type": "markdown",
      "metadata": {
        "id": "B4r1KXOl54EJ"
      },
      "source": [
        "what is the state of the game? does anybody win? is it a draw or i have to continue?"
      ]
    },
    {
      "cell_type": "code",
      "metadata": {
        "id": "qS5nEJtbAWFe"
      },
      "source": [
        "def evaluate(state):\n",
        "  # Rows\n",
        "    for row in range(n) : \n",
        "      i = 0\n",
        "      while (i<n-1 and state[row][i] == state[row][i+1]):   \n",
        "        i+=1\n",
        "      if i == n-1 :\n",
        "        if (state[row][0] == hum) :\n",
        "          return 10\n",
        "        elif (state[row][0] == comp) :\n",
        "          return -10\n",
        " \n",
        "  # Columns\n",
        "    for col in range(n) : \n",
        "      i = 0\n",
        "      while (i<n-1 and state[i][col] == state[i+1][col]):   \n",
        "        i+=1\n",
        "      if i == n-1 :\n",
        "        if (state[0][col] == hum) :\n",
        "          return 10\n",
        "        elif (state[0][col] == comp) :\n",
        "          return -10\n",
        " \n",
        " \n",
        "    # Diagonals\n",
        "    i = 0\n",
        "    j = 0\n",
        "    while (i<n-1 and state[i][j] == state[i+1][j+1]):   \n",
        "      i+=1\n",
        "      j+=1\n",
        "    if i == n-1 :\n",
        "      if (state[0][0] == hum) :\n",
        "        return 10\n",
        "      elif (state[0][0] == comp) :\n",
        "        return -10\n",
        " \n",
        "    i = 0\n",
        "    j = n-1\n",
        "    while (i<n-1 and state[i][j] == state[i+1][j-1]):   \n",
        "      i+=1\n",
        "      j-=1\n",
        "    if i == n-1 :\n",
        "      if (state[0][n-1] == hum) :\n",
        "        return 10\n",
        "      elif (state[0][n-1] == comp) :\n",
        "        return -10\n",
        " \n",
        "    # No victory recognized\n",
        "    return 0\n",
        " "
      ],
      "execution_count": null,
      "outputs": []
    },
    {
      "cell_type": "markdown",
      "metadata": {
        "id": "kchLtQ296JBU"
      },
      "source": [
        "recursively traverce the whole game tree and find the best cell to select for a given player based on the evaluate function"
      ]
    },
    {
      "cell_type": "code",
      "metadata": {
        "id": "vgIgO1IpIdmU"
      },
      "source": [
        "def minimax(state, depth, player):\n",
        "    emptyCell = emptyCellCons(state)\n",
        "\n",
        "    if player == hum:\n",
        "        best = [-1, -1, -infinity]\n",
        "    else:\n",
        "        best = [-1, -1, infinity]\n",
        "\n",
        "    value = evaluate(state)\n",
        "    if depth == 0 or value<0:\n",
        "        return [-1, -1, value]\n",
        "\n",
        "    for cell in emptyCell:\n",
        "        x, y = cell[0], cell[1]\n",
        "        state[x][y] = player\n",
        "        value = minimax(state, depth - 1, (-1)*player)\n",
        "        state[x][y] = 0\n",
        "        value[0], value[1] = x, y\n",
        "\n",
        "        if player == hum:\n",
        "            if value[2] > best[2]:\n",
        "                best = value  # max value\n",
        "        else:\n",
        "            if value[2] < best[2]:\n",
        "                best = value  # min value\n",
        "\n",
        "    return best"
      ],
      "execution_count": null,
      "outputs": []
    },
    {
      "cell_type": "markdown",
      "metadata": {
        "id": "wGwpWrl06eHh"
      },
      "source": [
        "if it is computer turn, what should it do?"
      ]
    },
    {
      "cell_type": "code",
      "metadata": {
        "id": "5HXyPDz_Ln8j"
      },
      "source": [
        "def comp_turn(emptyCell):\n",
        "    print(\"comp\")\n",
        "    global board\n",
        "    \n",
        "    depth = emptyCell and len(emptyCell)\n",
        "    value = evaluate(board)\n",
        "    if depth == 0:\n",
        "        return\n",
        " \n",
        "    print('Computer turn')\n",
        " \n",
        "    if depth == n**2:\n",
        "        x = random.randint(0,n-1)\n",
        "        y = random.randint(0,n-1)\n",
        "    else:\n",
        "        move = minimax(board,depth, comp)\n",
        "        x, y = move[0], move[1]\n",
        " \n",
        "    board[x][y] = -1\n",
        "    emptyCell.remove([x,y])\n",
        "    print(emptyCell)\n",
        " \n",
        "    print(board)\n",
        "    return emptyCell"
      ],
      "execution_count": null,
      "outputs": []
    },
    {
      "cell_type": "markdown",
      "metadata": {
        "id": "PDM8PLm26kmJ"
      },
      "source": [
        "what to do if its the users turn?"
      ]
    },
    {
      "cell_type": "code",
      "metadata": {
        "id": "9qw5I5b0MSIo"
      },
      "source": [
        "def hum_turn(emptyCell):\n",
        "    global board\n",
        "    depth = emptyCell and len(emptyCell)\n",
        "    value = evaluate(board)\n",
        "    if depth == 0:\n",
        "        return\n",
        " \n",
        "    while (depth > 0):\n",
        "      print(\"your turn!\")\n",
        "      print(\"input the coordinates x,y:\")\n",
        "      x = int(input(\"x:\"))\n",
        "      y = int(input(\"y:\"))\n",
        " \n",
        "      if (validMove(x,y,emptyCell)):\n",
        "        board[x][y] = 1\n",
        "        emptyCell.remove([x,y])\n",
        " \n",
        "        print(board)\n",
        "        return emptyCell\n",
        " \n",
        "      else:\n",
        "        print(\"input a valid cell!\")"
      ],
      "execution_count": null,
      "outputs": []
    },
    {
      "cell_type": "code",
      "metadata": {
        "id": "vI-RiP0KM23N"
      },
      "source": [
        "def main():\n",
        "  \n",
        "    emptyCell = emptyCellCons(board)\n",
        "    print(emptyCell)\n",
        "    global first  # if human is the first\n",
        "    first = ''\n",
        "\n",
        "    while first != 'Y' and first != 'N':\n",
        "        try:\n",
        "            first = input('First to start?[y/n]: ').upper()\n",
        "        except (KeyError, ValueError):\n",
        "            print('Bad choice')\n",
        " \n",
        " \n",
        "    # Main loop of this game\n",
        "    while (emptyCell and len(emptyCell) > 0):\n",
        "        if first == 'N':\n",
        "            \n",
        "            emptyCell = comp_turn(emptyCell)\n",
        "            first = ''\n",
        "        emptyCell = hum_turn(emptyCell)\n",
        "        print(emptyCell)\n",
        "        eval = evaluate(board)\n",
        "        if eval != 0:\n",
        "          break\n",
        "        \n",
        "        emptyCell = comp_turn(emptyCell)\n",
        "        print(emptyCell)\n",
        "        eval = evaluate(board)\n",
        "        if eval != 0:\n",
        "          break\n",
        " \n",
        "    \n",
        "    if eval>0:\n",
        "      print(\"You won!\")\n",
        "    elif eval>0:\n",
        "      print(\"You lost!\")\n",
        "    else:\n",
        "      print(\"Draw!\")"
      ],
      "execution_count": null,
      "outputs": []
    },
    {
      "cell_type": "code",
      "metadata": {
        "colab": {
          "base_uri": "https://localhost:8080/"
        },
        "id": "gGsUU2xcNH08",
        "outputId": "95077b3b-f9b5-4b87-bd26-775527ddd6e4"
      },
      "source": [
        "main()\n"
      ],
      "execution_count": null,
      "outputs": [
        {
          "output_type": "stream",
          "text": [
            "[[0, 0], [0, 1], [0, 2], [1, 0], [1, 1], [1, 2], [2, 0], [2, 1], [2, 2]]\n",
            "First to start?[y/n]: n\n",
            "comp\n",
            "Computer turn\n",
            "[[0, 0], [0, 1], [1, 0], [1, 1], [1, 2], [2, 0], [2, 1], [2, 2]]\n",
            "[[ 0.  0. -1.]\n",
            " [ 0.  0.  0.]\n",
            " [ 0.  0.  0.]]\n",
            "hum\n",
            "[[0, 0], [0, 1], [1, 0], [1, 1], [1, 2], [2, 0], [2, 1], [2, 2]]\n",
            "8\n",
            "0\n",
            "your turn!\n",
            "input the coordinates x,y:\n",
            "x:1\n",
            "y:1\n",
            "[[ 0.  0. -1.]\n",
            " [ 0.  1.  0.]\n",
            " [ 0.  0.  0.]]\n",
            "[[0, 0], [0, 1], [1, 0], [1, 2], [2, 0], [2, 1], [2, 2]]\n",
            "comp\n",
            "Computer turn\n",
            "[[0, 1], [1, 0], [1, 2], [2, 0], [2, 1], [2, 2]]\n",
            "[[-1.  0. -1.]\n",
            " [ 0.  1.  0.]\n",
            " [ 0.  0.  0.]]\n",
            "[[0, 1], [1, 0], [1, 2], [2, 0], [2, 1], [2, 2]]\n",
            "hum\n",
            "[[0, 1], [1, 0], [1, 2], [2, 0], [2, 1], [2, 2]]\n",
            "6\n",
            "0\n",
            "your turn!\n",
            "input the coordinates x,y:\n",
            "x:0\n",
            "y:1\n",
            "[[-1.  1. -1.]\n",
            " [ 0.  1.  0.]\n",
            " [ 0.  0.  0.]]\n",
            "[[1, 0], [1, 2], [2, 0], [2, 1], [2, 2]]\n",
            "comp\n",
            "Computer turn\n",
            "[[1, 2], [2, 0], [2, 1], [2, 2]]\n",
            "[[-1.  1. -1.]\n",
            " [-1.  1.  0.]\n",
            " [ 0.  0.  0.]]\n",
            "[[1, 2], [2, 0], [2, 1], [2, 2]]\n",
            "hum\n",
            "[[1, 2], [2, 0], [2, 1], [2, 2]]\n",
            "4\n",
            "0\n",
            "your turn!\n",
            "input the coordinates x,y:\n",
            "x:2\n",
            "y:1\n",
            "[[-1.  1. -1.]\n",
            " [-1.  1.  0.]\n",
            " [ 0.  1.  0.]]\n",
            "[[1, 2], [2, 0], [2, 2]]\n",
            "You won!\n"
          ],
          "name": "stdout"
        }
      ]
    }
  ]
}