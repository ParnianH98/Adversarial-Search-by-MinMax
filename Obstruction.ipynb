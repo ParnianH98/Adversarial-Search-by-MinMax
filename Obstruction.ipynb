{
  "nbformat": 4,
  "nbformat_minor": 0,
  "metadata": {
    "colab": {
      "name": "Obstruction.ipynb",
      "provenance": [],
      "collapsed_sections": [],
      "include_colab_link": true
    },
    "kernelspec": {
      "display_name": "Python 3",
      "name": "python3"
    },
    "language_info": {
      "name": "python"
    }
  },
  "cells": [
    {
      "cell_type": "markdown",
      "metadata": {
        "id": "view-in-github",
        "colab_type": "text"
      },
      "source": [
        "<a href=\"https://colab.research.google.com/github/ParnianH98/Adversarial-Search-by-MinMax/blob/main/Obstruction.ipynb\" target=\"_parent\"><img src=\"https://colab.research.google.com/assets/colab-badge.svg\" alt=\"Open In Colab\"/></a>"
      ]
    },
    {
      "cell_type": "code",
      "metadata": {
        "id": "h7HhzoCuKB1d"
      },
      "source": [
        "import numpy as np\n",
        "from math import inf as infinity\n",
        "import random"
      ],
      "execution_count": null,
      "outputs": []
    },
    {
      "cell_type": "markdown",
      "metadata": {
        "id": "d5-ONxayJ82x"
      },
      "source": [
        "global variables"
      ]
    },
    {
      "cell_type": "markdown",
      "metadata": {
        "id": "jBk4TZAWIuVq"
      },
      "source": [
        "making the board"
      ]
    },
    {
      "cell_type": "code",
      "metadata": {
        "id": "teIxHHfLJmXc"
      },
      "source": [
        "hum, comp = 1 , -1\n",
        "n = 4\n",
        "global board\n",
        "board = np.zeros((n,n))\n",
        "##### in the board:\n",
        "##### 0 is empty\n",
        "##### 1 is human\n",
        "##### -1 is computer\n",
        "##### 3 is forbidden"
      ],
      "execution_count": null,
      "outputs": []
    },
    {
      "cell_type": "markdown",
      "metadata": {
        "id": "hk9HChKvI9xR"
      },
      "source": [
        "evaluate each fill board"
      ]
    },
    {
      "cell_type": "code",
      "metadata": {
        "id": "d8hFN8SEHDBn"
      },
      "source": [
        "def evaluate():\n",
        "  global counter\n",
        "  global first\n",
        "  if (counter%2 == 1 and first == 'Y'):\n",
        "    return 10\n",
        "  if (counter%2 == 1 and first == 'N'):\n",
        "    return -10\n",
        "  if (counter%2 == 0 and first == 'Y'):\n",
        "    return -10\n",
        "  else:\n",
        "    return 10"
      ],
      "execution_count": null,
      "outputs": []
    },
    {
      "cell_type": "markdown",
      "metadata": {
        "id": "7RIIWCr2JXJa"
      },
      "source": [
        "construction of emptyCell"
      ]
    },
    {
      "cell_type": "code",
      "metadata": {
        "id": "aA_jNfD3YvT3"
      },
      "source": [
        "def emptyCellCons(state):\n",
        "    emptyCell = []\n",
        "    a = np.where(state == 0)\n",
        "    x = a[0]\n",
        "    y = a[1]\n",
        "    for i in range(len(x)):\n",
        "        emptyCell.append([x[i],y[i]])\n",
        "\n",
        "    return emptyCell"
      ],
      "execution_count": null,
      "outputs": []
    },
    {
      "cell_type": "markdown",
      "metadata": {
        "id": "ypMUDPzEJi__"
      },
      "source": [
        "remove neighbours of a specific cell from the board and emptyCell list"
      ]
    },
    {
      "cell_type": "code",
      "metadata": {
        "id": "8UCAMj-TX3Ah"
      },
      "source": [
        "def remNeighbour(state, x,y):\n",
        "  l = []\n",
        "  if (x-1 >= 0):\n",
        "    if (y-1 >= 0):\n",
        "      state[x-1][y-1] = 3\n",
        "      l.append([x-1,y-1])\n",
        "    state[x-1][y] = 3\n",
        "    l.append([x-1,y])\n",
        "    if (y+1 < n):\n",
        "      state[x-1][y+1] = 3\n",
        "      l.append([x-1,y+1])\n",
        "\n",
        "  if (y-1 >= 0):\n",
        "      state[x][y-1] = 3\n",
        "      l.append([x,y-1])\n",
        "  if (y+1 < n):\n",
        "      state[x][y+1] = 3\n",
        "      l.append([x,y+1])\n",
        "\n",
        "  if (x+1 < n):\n",
        "    if (y-1 >= 0):\n",
        "      state[x+1][y-1] = 3\n",
        "      l.append([x+1,y-1])\n",
        "    state[x+1][y] = 3\n",
        "    l.append([x+1,y])\n",
        "    if (y+1 < n):\n",
        "      state[x+1][y+1] = 3\n",
        "      l.append([x+1,y+1])\n",
        "\n",
        "  return [state,l]"
      ],
      "execution_count": null,
      "outputs": []
    },
    {
      "cell_type": "markdown",
      "metadata": {
        "id": "YUuh1LihJwXP"
      },
      "source": [
        "return neighbours of a specific cell to the board and emptyCell list"
      ]
    },
    {
      "cell_type": "code",
      "metadata": {
        "id": "bcgqU8eW-lVM"
      },
      "source": [
        "def retNeighbour(state , l):\n",
        "\n",
        "  for cell in l:\n",
        "    state[cell[0]][cell[1]] = 0\n",
        "\n",
        "  return state\n"
      ],
      "execution_count": null,
      "outputs": []
    },
    {
      "cell_type": "markdown",
      "metadata": {
        "id": "S2fr8XpSLLlo"
      },
      "source": [
        "is the cell entered by user, available in the list?"
      ]
    },
    {
      "cell_type": "code",
      "metadata": {
        "id": "33rmkFPpb2Ij"
      },
      "source": [
        "def validMove(x,y,emptyCell):\n",
        "  if [x,y] in emptyCell:\n",
        "    return True\n",
        "  return False"
      ],
      "execution_count": null,
      "outputs": []
    },
    {
      "cell_type": "markdown",
      "metadata": {
        "id": "cP4279YFMPLv"
      },
      "source": [
        "implementation of MiniMax algorithm"
      ]
    },
    {
      "cell_type": "code",
      "metadata": {
        "id": "PvCtDwJuhJ_-"
      },
      "source": [
        "def minimax( state,depth, player) :\n",
        "\n",
        "    emptyCell = emptyCellCons(state)\n",
        "\n",
        "    if (player == hum) :\n",
        "      best = [-1,-1,-infinity]\n",
        " \n",
        "    if (player == comp) :\n",
        "      best = [-1,-1,infinity]\n",
        " \n",
        "    if depth == 0:\n",
        "        return [-1, -1, (-1)*player*10]\n",
        " \n",
        "    empty = emptyCell.copy()\n",
        "    # Traverse all cells\n",
        "    # Check if cell is empty\n",
        "    for cell in emptyCell :\n",
        "        # Make the move\n",
        "        x = cell[0]\n",
        "        y = cell[1]\n",
        "        state[x][y] = player\n",
        " \n",
        " \n",
        "        # Call minimax recursively and choose\n",
        "        # the maximum value\n",
        "        reserve = remNeighbour(state,x,y)\n",
        "        state = reserve[0]\n",
        "        l = reserve[1]\n",
        "        empty = emptyCellCons(state)\n",
        "        \n",
        "        value = minimax( state,len(empty), (-1)*player)\n",
        "        value[0],value[1] = x,y\n",
        "\n",
        "        state[x][y] = 0\n",
        "        state = retNeighbour(state , l)\n",
        "        empty = emptyCellCons(state)\n",
        " \n",
        "        if player == comp:\n",
        "            if value[2] < best[2]:\n",
        "                best = value  # min value\n",
        "        else:\n",
        "            if value[2] > best[2]:\n",
        "                best = value  # max value\n",
        "        # Undo the move\n",
        "        \n",
        "    return best"
      ],
      "execution_count": null,
      "outputs": []
    },
    {
      "cell_type": "code",
      "metadata": {
        "id": "f_qzUTYr7YI7"
      },
      "source": [
        "def comp_turn():\n",
        "    global counter\n",
        "    global board\n",
        "    emptyCell = emptyCellCons(board)\n",
        "    depth = len(emptyCell)\n",
        "    if depth == 0:\n",
        "        return\n",
        " \n",
        "    print('Computer turn')\n",
        " \n",
        "    if depth == n**2:\n",
        "        x = random.randint(0,n-1)\n",
        "        y = random.randint(0,n-1)\n",
        "    else:\n",
        "        print(emptyCell)\n",
        "        move = minimax(board,depth, comp)\n",
        "        print(emptyCell)\n",
        "        x, y = move[0], move[1]\n",
        "        print(emptyCell)\n",
        " \n",
        "    print(emptyCell)\n",
        "    board[x][y] = -1\n",
        "    board = remNeighbour(board,x,y)[0]\n",
        "    emptyCell = emptyCellCons(board)\n",
        "    print(emptyCell)\n",
        " \n",
        "    counter +=1\n",
        "    print(board)\n",
        "    return emptyCell"
      ],
      "execution_count": null,
      "outputs": []
    },
    {
      "cell_type": "code",
      "metadata": {
        "id": "A6o8q6fUsHOX"
      },
      "source": [
        "def hum_turn():\n",
        "    global counter\n",
        "    global board\n",
        "    emptyCell = emptyCellCons(board)\n",
        "    depth = len(emptyCell)\n",
        "    if depth == 0:\n",
        "        return\n",
        " \n",
        "    while (depth > 0):\n",
        "      print(\"your turn!\")\n",
        "      print(\"input the coordinates x,y:\")\n",
        "      x = int(input(\"x:\"))\n",
        "      y = int(input(\"y:\"))\n",
        " \n",
        "      if (validMove(x,y,emptyCell)):\n",
        "        board[x][y] = 1\n",
        "        board = remNeighbour(board,x,y)[0]\n",
        "        emptyCell = emptyCellCons(board)\n",
        " \n",
        "        counter+=1\n",
        "        print(board)\n",
        "        return emptyCell\n",
        " \n",
        "      else:\n",
        "        print(\"input a valid cell!\")"
      ],
      "execution_count": null,
      "outputs": []
    },
    {
      "cell_type": "code",
      "metadata": {
        "id": "tvjdFcLTjfW0"
      },
      "source": [
        "def main():\n",
        "  \n",
        "    global counter\n",
        "    counter = 0\n",
        "\n",
        "    emptyCell = emptyCellCons(board)\n",
        "    print(emptyCell)\n",
        "    global first  # if human is the first\n",
        "    first = ''\n",
        "\n",
        "    while first != 'Y' and first != 'N':\n",
        "        try:\n",
        "            first = input('First to start?[y/n]: ').upper()\n",
        "        except (KeyError, ValueError):\n",
        "            print('Bad choice')\n",
        " \n",
        " \n",
        "    # Main loop of this game\n",
        "    while len(emptyCell) > 0:\n",
        "        if first == 'N':\n",
        "            \n",
        "            emptyCell = comp_turn()\n",
        "            first = ''\n",
        "        emptyCell = hum_turn()\n",
        "        print(emptyCell)\n",
        "        \n",
        "        emptyCell = comp_turn()\n",
        "        print(emptyCell)\n",
        " \n",
        "    if evaluate()>0:\n",
        "      print(\"You won!\")\n",
        "    else:\n",
        "      print(\"You lost!\")"
      ],
      "execution_count": null,
      "outputs": []
    },
    {
      "cell_type": "code",
      "metadata": {
        "id": "v2F9V3XpLxSw",
        "colab": {
          "base_uri": "https://localhost:8080/",
          "height": 693
        },
        "outputId": "d3030457-90b1-4a17-e1a7-0a5b103f4bc1"
      },
      "source": [
        "main()"
      ],
      "execution_count": null,
      "outputs": [
        {
          "output_type": "stream",
          "text": [
            "[[0, 0], [0, 1], [0, 2], [0, 3], [1, 0], [1, 1], [1, 2], [1, 3], [2, 0], [2, 1], [2, 2], [2, 3], [3, 0], [3, 1], [3, 2], [3, 3]]\n",
            "First to start?[y/n]: n\n",
            "Computer turn\n",
            "[[0, 0], [0, 1], [0, 2], [0, 3], [1, 0], [1, 1], [1, 2], [1, 3], [2, 0], [2, 1], [2, 2], [2, 3], [3, 0], [3, 1], [3, 2], [3, 3]]\n",
            "[[0, 2], [0, 3], [1, 2], [1, 3], [2, 0], [2, 1], [2, 2], [2, 3], [3, 0], [3, 1], [3, 2], [3, 3]]\n",
            "[[-1.  3.  0.  0.]\n",
            " [ 3.  3.  0.  0.]\n",
            " [ 0.  0.  0.  0.]\n",
            " [ 0.  0.  0.  0.]]\n",
            "your turn!\n",
            "input the coordinates x,y:\n",
            "x:2\n",
            "y:2\n",
            "[[-1.  3.  0.  0.]\n",
            " [ 3.  3.  3.  3.]\n",
            " [ 0.  3.  1.  3.]\n",
            " [ 0.  3.  3.  3.]]\n",
            "[[0, 2], [0, 3], [2, 0], [3, 0]]\n",
            "Computer turn\n",
            "[[0, 2], [0, 3], [2, 0], [3, 0]]\n"
          ],
          "name": "stdout"
        },
        {
          "output_type": "error",
          "ename": "RecursionError",
          "evalue": "ignored",
          "traceback": [
            "\u001b[0;31m---------------------------------------------------------------------------\u001b[0m",
            "\u001b[0;31mRecursionError\u001b[0m                            Traceback (most recent call last)",
            "\u001b[0;32m<ipython-input-120-263240bbee7e>\u001b[0m in \u001b[0;36m<module>\u001b[0;34m()\u001b[0m\n\u001b[0;32m----> 1\u001b[0;31m \u001b[0mmain\u001b[0m\u001b[0;34m(\u001b[0m\u001b[0;34m)\u001b[0m\u001b[0;34m\u001b[0m\u001b[0;34m\u001b[0m\u001b[0m\n\u001b[0m",
            "\u001b[0;32m<ipython-input-119-b656f010d732>\u001b[0m in \u001b[0;36mmain\u001b[0;34m()\u001b[0m\n\u001b[1;32m     25\u001b[0m         \u001b[0mprint\u001b[0m\u001b[0;34m(\u001b[0m\u001b[0memptyCell\u001b[0m\u001b[0;34m)\u001b[0m\u001b[0;34m\u001b[0m\u001b[0;34m\u001b[0m\u001b[0m\n\u001b[1;32m     26\u001b[0m \u001b[0;34m\u001b[0m\u001b[0m\n\u001b[0;32m---> 27\u001b[0;31m         \u001b[0memptyCell\u001b[0m \u001b[0;34m=\u001b[0m \u001b[0mcomp_turn\u001b[0m\u001b[0;34m(\u001b[0m\u001b[0;34m)\u001b[0m\u001b[0;34m\u001b[0m\u001b[0;34m\u001b[0m\u001b[0m\n\u001b[0m\u001b[1;32m     28\u001b[0m         \u001b[0mprint\u001b[0m\u001b[0;34m(\u001b[0m\u001b[0memptyCell\u001b[0m\u001b[0;34m)\u001b[0m\u001b[0;34m\u001b[0m\u001b[0;34m\u001b[0m\u001b[0m\n\u001b[1;32m     29\u001b[0m \u001b[0;34m\u001b[0m\u001b[0m\n",
            "\u001b[0;32m<ipython-input-117-52ea94044767>\u001b[0m in \u001b[0;36mcomp_turn\u001b[0;34m()\u001b[0m\n\u001b[1;32m     14\u001b[0m     \u001b[0;32melse\u001b[0m\u001b[0;34m:\u001b[0m\u001b[0;34m\u001b[0m\u001b[0;34m\u001b[0m\u001b[0m\n\u001b[1;32m     15\u001b[0m         \u001b[0mprint\u001b[0m\u001b[0;34m(\u001b[0m\u001b[0memptyCell\u001b[0m\u001b[0;34m)\u001b[0m\u001b[0;34m\u001b[0m\u001b[0;34m\u001b[0m\u001b[0m\n\u001b[0;32m---> 16\u001b[0;31m         \u001b[0mmove\u001b[0m \u001b[0;34m=\u001b[0m \u001b[0mminimax\u001b[0m\u001b[0;34m(\u001b[0m\u001b[0mboard\u001b[0m\u001b[0;34m,\u001b[0m\u001b[0mdepth\u001b[0m\u001b[0;34m,\u001b[0m \u001b[0mcomp\u001b[0m\u001b[0;34m)\u001b[0m\u001b[0;34m\u001b[0m\u001b[0;34m\u001b[0m\u001b[0m\n\u001b[0m\u001b[1;32m     17\u001b[0m         \u001b[0mprint\u001b[0m\u001b[0;34m(\u001b[0m\u001b[0memptyCell\u001b[0m\u001b[0;34m)\u001b[0m\u001b[0;34m\u001b[0m\u001b[0;34m\u001b[0m\u001b[0m\n\u001b[1;32m     18\u001b[0m         \u001b[0mx\u001b[0m\u001b[0;34m,\u001b[0m \u001b[0my\u001b[0m \u001b[0;34m=\u001b[0m \u001b[0mmove\u001b[0m\u001b[0;34m[\u001b[0m\u001b[0;36m0\u001b[0m\u001b[0;34m]\u001b[0m\u001b[0;34m,\u001b[0m \u001b[0mmove\u001b[0m\u001b[0;34m[\u001b[0m\u001b[0;36m1\u001b[0m\u001b[0;34m]\u001b[0m\u001b[0;34m\u001b[0m\u001b[0;34m\u001b[0m\u001b[0m\n",
            "\u001b[0;32m<ipython-input-116-d83831fe9638>\u001b[0m in \u001b[0;36mminimax\u001b[0;34m(state, depth, player)\u001b[0m\n\u001b[1;32m     29\u001b[0m         \u001b[0mempty\u001b[0m \u001b[0;34m=\u001b[0m \u001b[0memptyCellCons\u001b[0m\u001b[0;34m(\u001b[0m\u001b[0mstate\u001b[0m\u001b[0;34m)\u001b[0m\u001b[0;34m\u001b[0m\u001b[0;34m\u001b[0m\u001b[0m\n\u001b[1;32m     30\u001b[0m \u001b[0;34m\u001b[0m\u001b[0m\n\u001b[0;32m---> 31\u001b[0;31m         \u001b[0mvalue\u001b[0m \u001b[0;34m=\u001b[0m \u001b[0mminimax\u001b[0m\u001b[0;34m(\u001b[0m \u001b[0mstate\u001b[0m\u001b[0;34m,\u001b[0m\u001b[0mlen\u001b[0m\u001b[0;34m(\u001b[0m\u001b[0mempty\u001b[0m\u001b[0;34m)\u001b[0m\u001b[0;34m,\u001b[0m \u001b[0;34m(\u001b[0m\u001b[0;34m-\u001b[0m\u001b[0;36m1\u001b[0m\u001b[0;34m)\u001b[0m\u001b[0;34m*\u001b[0m\u001b[0mplayer\u001b[0m\u001b[0;34m)\u001b[0m\u001b[0;34m\u001b[0m\u001b[0;34m\u001b[0m\u001b[0m\n\u001b[0m\u001b[1;32m     32\u001b[0m         \u001b[0mvalue\u001b[0m\u001b[0;34m[\u001b[0m\u001b[0;36m0\u001b[0m\u001b[0;34m]\u001b[0m\u001b[0;34m,\u001b[0m\u001b[0mvalue\u001b[0m\u001b[0;34m[\u001b[0m\u001b[0;36m1\u001b[0m\u001b[0;34m]\u001b[0m \u001b[0;34m=\u001b[0m \u001b[0mx\u001b[0m\u001b[0;34m,\u001b[0m\u001b[0my\u001b[0m\u001b[0;34m\u001b[0m\u001b[0;34m\u001b[0m\u001b[0m\n\u001b[1;32m     33\u001b[0m \u001b[0;34m\u001b[0m\u001b[0m\n",
            "... last 1 frames repeated, from the frame below ...\n",
            "\u001b[0;32m<ipython-input-116-d83831fe9638>\u001b[0m in \u001b[0;36mminimax\u001b[0;34m(state, depth, player)\u001b[0m\n\u001b[1;32m     29\u001b[0m         \u001b[0mempty\u001b[0m \u001b[0;34m=\u001b[0m \u001b[0memptyCellCons\u001b[0m\u001b[0;34m(\u001b[0m\u001b[0mstate\u001b[0m\u001b[0;34m)\u001b[0m\u001b[0;34m\u001b[0m\u001b[0;34m\u001b[0m\u001b[0m\n\u001b[1;32m     30\u001b[0m \u001b[0;34m\u001b[0m\u001b[0m\n\u001b[0;32m---> 31\u001b[0;31m         \u001b[0mvalue\u001b[0m \u001b[0;34m=\u001b[0m \u001b[0mminimax\u001b[0m\u001b[0;34m(\u001b[0m \u001b[0mstate\u001b[0m\u001b[0;34m,\u001b[0m\u001b[0mlen\u001b[0m\u001b[0;34m(\u001b[0m\u001b[0mempty\u001b[0m\u001b[0;34m)\u001b[0m\u001b[0;34m,\u001b[0m \u001b[0;34m(\u001b[0m\u001b[0;34m-\u001b[0m\u001b[0;36m1\u001b[0m\u001b[0;34m)\u001b[0m\u001b[0;34m*\u001b[0m\u001b[0mplayer\u001b[0m\u001b[0;34m)\u001b[0m\u001b[0;34m\u001b[0m\u001b[0;34m\u001b[0m\u001b[0m\n\u001b[0m\u001b[1;32m     32\u001b[0m         \u001b[0mvalue\u001b[0m\u001b[0;34m[\u001b[0m\u001b[0;36m0\u001b[0m\u001b[0;34m]\u001b[0m\u001b[0;34m,\u001b[0m\u001b[0mvalue\u001b[0m\u001b[0;34m[\u001b[0m\u001b[0;36m1\u001b[0m\u001b[0;34m]\u001b[0m \u001b[0;34m=\u001b[0m \u001b[0mx\u001b[0m\u001b[0;34m,\u001b[0m\u001b[0my\u001b[0m\u001b[0;34m\u001b[0m\u001b[0;34m\u001b[0m\u001b[0m\n\u001b[1;32m     33\u001b[0m \u001b[0;34m\u001b[0m\u001b[0m\n",
            "\u001b[0;31mRecursionError\u001b[0m: maximum recursion depth exceeded while calling a Python object"
          ]
        }
      ]
    }
  ]
}